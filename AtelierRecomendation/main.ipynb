{
 "cells": [
  {
   "cell_type": "code",
   "execution_count": 71,
   "metadata": {},
   "outputs": [],
   "source": [
    "import numpy as np\n",
    "import pandas as pd\n",
    "from sklearn.linear_model import LogisticRegression\n",
    "from sklearn.model_selection import train_test_split\n",
    "from sklearn.metrics import accuracy_score"
   ]
  },
  {
   "cell_type": "code",
   "execution_count": 72,
   "metadata": {},
   "outputs": [
    {
     "name": "stderr",
     "output_type": "stream",
     "text": [
      "<>:1: SyntaxWarning: invalid escape sequence '\\M'\n",
      "<>:1: SyntaxWarning: invalid escape sequence '\\M'\n",
      "C:\\Users\\HP\\AppData\\Local\\Temp\\ipykernel_10884\\84593768.py:1: SyntaxWarning: invalid escape sequence '\\M'\n",
      "  data = pd.read_csv(\"C:\\Machine_learning Python\\projets\\AtelierRecomendation\\Academic Hub - A Student Guidance Portal.csv\")\n"
     ]
    }
   ],
   "source": [
    "data = pd.read_csv(\"C:\\Machine_learning Python\\projets\\AtelierRecomendation\\Academic Hub - A Student Guidance Portal.csv\")"
   ]
  },
  {
   "cell_type": "code",
   "execution_count": 73,
   "metadata": {},
   "outputs": [
    {
     "data": {
      "text/html": [
       "<div>\n",
       "<style scoped>\n",
       "    .dataframe tbody tr th:only-of-type {\n",
       "        vertical-align: middle;\n",
       "    }\n",
       "\n",
       "    .dataframe tbody tr th {\n",
       "        vertical-align: top;\n",
       "    }\n",
       "\n",
       "    .dataframe thead th {\n",
       "        text-align: right;\n",
       "    }\n",
       "</style>\n",
       "<table border=\"1\" class=\"dataframe\">\n",
       "  <thead>\n",
       "    <tr style=\"text-align: right;\">\n",
       "      <th></th>\n",
       "      <th>Timestamp</th>\n",
       "      <th>Major Subjects in Matric</th>\n",
       "      <th>Matric Percentage</th>\n",
       "      <th>Major in Intermediate</th>\n",
       "      <th>Intermediate Percentage</th>\n",
       "      <th>Favorite Subject</th>\n",
       "      <th>Area of Interest</th>\n",
       "      <th>Your Current Domain</th>\n",
       "    </tr>\n",
       "  </thead>\n",
       "  <tbody>\n",
       "    <tr>\n",
       "      <th>0</th>\n",
       "      <td>2022/05/30 11:28:21 AM GMT+5</td>\n",
       "      <td>Biology</td>\n",
       "      <td>87.0</td>\n",
       "      <td>A Levels</td>\n",
       "      <td>75 - 99</td>\n",
       "      <td>Biology</td>\n",
       "      <td>Bio Sciences</td>\n",
       "      <td>Bio Sciences</td>\n",
       "    </tr>\n",
       "    <tr>\n",
       "      <th>1</th>\n",
       "      <td>2022/05/30 11:30:17 AM GMT+5</td>\n",
       "      <td>O Level</td>\n",
       "      <td>80.0</td>\n",
       "      <td>A Levels</td>\n",
       "      <td>60 - 75</td>\n",
       "      <td>Finance / Accounting / Statistics</td>\n",
       "      <td>Business Administration</td>\n",
       "      <td>Business Administration</td>\n",
       "    </tr>\n",
       "    <tr>\n",
       "      <th>2</th>\n",
       "      <td>2022/05/30 11:30:59 AM GMT+5</td>\n",
       "      <td>Biology</td>\n",
       "      <td>87.0</td>\n",
       "      <td>A Levels</td>\n",
       "      <td>75 - 99</td>\n",
       "      <td>Physics</td>\n",
       "      <td>Bio Sciences</td>\n",
       "      <td>Bio Sciences</td>\n",
       "    </tr>\n",
       "    <tr>\n",
       "      <th>3</th>\n",
       "      <td>2022/05/30 11:34:26 AM GMT+5</td>\n",
       "      <td>Computer</td>\n",
       "      <td>75.0</td>\n",
       "      <td>Fsc Pre Engineering</td>\n",
       "      <td>60 - 75</td>\n",
       "      <td>Computer Science</td>\n",
       "      <td>Software Engineering</td>\n",
       "      <td>Computer Science</td>\n",
       "    </tr>\n",
       "    <tr>\n",
       "      <th>4</th>\n",
       "      <td>2022/05/30 11:34:33 AM GMT+5</td>\n",
       "      <td>Computer</td>\n",
       "      <td>83.0</td>\n",
       "      <td>Fsc Pre Engineering</td>\n",
       "      <td>60 - 75</td>\n",
       "      <td>Computer Science</td>\n",
       "      <td>Software Engineering</td>\n",
       "      <td>Software Engineering</td>\n",
       "    </tr>\n",
       "  </tbody>\n",
       "</table>\n",
       "</div>"
      ],
      "text/plain": [
       "                      Timestamp Major Subjects in Matric  Matric Percentage  \\\n",
       "0  2022/05/30 11:28:21 AM GMT+5                  Biology               87.0   \n",
       "1  2022/05/30 11:30:17 AM GMT+5                  O Level               80.0   \n",
       "2  2022/05/30 11:30:59 AM GMT+5                  Biology               87.0   \n",
       "3  2022/05/30 11:34:26 AM GMT+5                 Computer               75.0   \n",
       "4  2022/05/30 11:34:33 AM GMT+5                 Computer               83.0   \n",
       "\n",
       "  Major in Intermediate Intermediate Percentage  \\\n",
       "0              A Levels                 75 - 99   \n",
       "1              A Levels                 60 - 75   \n",
       "2              A Levels                 75 - 99   \n",
       "3   Fsc Pre Engineering                 60 - 75   \n",
       "4   Fsc Pre Engineering                 60 - 75   \n",
       "\n",
       "                    Favorite Subject         Area of Interest  \\\n",
       "0                            Biology             Bio Sciences   \n",
       "1  Finance / Accounting / Statistics  Business Administration   \n",
       "2                            Physics             Bio Sciences   \n",
       "3                   Computer Science     Software Engineering   \n",
       "4                   Computer Science     Software Engineering   \n",
       "\n",
       "       Your Current Domain  \n",
       "0             Bio Sciences  \n",
       "1  Business Administration  \n",
       "2             Bio Sciences  \n",
       "3         Computer Science  \n",
       "4     Software Engineering  "
      ]
     },
     "execution_count": 73,
     "metadata": {},
     "output_type": "execute_result"
    }
   ],
   "source": [
    "data.head()"
   ]
  },
  {
   "cell_type": "code",
   "execution_count": 74,
   "metadata": {},
   "outputs": [],
   "source": [
    "data = data.drop(columns = [\"Timestamp\"],axis=1)"
   ]
  },
  {
   "cell_type": "code",
   "execution_count": 75,
   "metadata": {},
   "outputs": [
    {
     "data": {
      "text/html": [
       "<div>\n",
       "<style scoped>\n",
       "    .dataframe tbody tr th:only-of-type {\n",
       "        vertical-align: middle;\n",
       "    }\n",
       "\n",
       "    .dataframe tbody tr th {\n",
       "        vertical-align: top;\n",
       "    }\n",
       "\n",
       "    .dataframe thead th {\n",
       "        text-align: right;\n",
       "    }\n",
       "</style>\n",
       "<table border=\"1\" class=\"dataframe\">\n",
       "  <thead>\n",
       "    <tr style=\"text-align: right;\">\n",
       "      <th></th>\n",
       "      <th>Major Subjects in Matric</th>\n",
       "      <th>Matric Percentage</th>\n",
       "      <th>Major in Intermediate</th>\n",
       "      <th>Intermediate Percentage</th>\n",
       "      <th>Favorite Subject</th>\n",
       "      <th>Area of Interest</th>\n",
       "      <th>Your Current Domain</th>\n",
       "    </tr>\n",
       "  </thead>\n",
       "  <tbody>\n",
       "    <tr>\n",
       "      <th>0</th>\n",
       "      <td>Biology</td>\n",
       "      <td>87.0</td>\n",
       "      <td>A Levels</td>\n",
       "      <td>75 - 99</td>\n",
       "      <td>Biology</td>\n",
       "      <td>Bio Sciences</td>\n",
       "      <td>Bio Sciences</td>\n",
       "    </tr>\n",
       "    <tr>\n",
       "      <th>1</th>\n",
       "      <td>O Level</td>\n",
       "      <td>80.0</td>\n",
       "      <td>A Levels</td>\n",
       "      <td>60 - 75</td>\n",
       "      <td>Finance / Accounting / Statistics</td>\n",
       "      <td>Business Administration</td>\n",
       "      <td>Business Administration</td>\n",
       "    </tr>\n",
       "    <tr>\n",
       "      <th>2</th>\n",
       "      <td>Biology</td>\n",
       "      <td>87.0</td>\n",
       "      <td>A Levels</td>\n",
       "      <td>75 - 99</td>\n",
       "      <td>Physics</td>\n",
       "      <td>Bio Sciences</td>\n",
       "      <td>Bio Sciences</td>\n",
       "    </tr>\n",
       "    <tr>\n",
       "      <th>3</th>\n",
       "      <td>Computer</td>\n",
       "      <td>75.0</td>\n",
       "      <td>Fsc Pre Engineering</td>\n",
       "      <td>60 - 75</td>\n",
       "      <td>Computer Science</td>\n",
       "      <td>Software Engineering</td>\n",
       "      <td>Computer Science</td>\n",
       "    </tr>\n",
       "    <tr>\n",
       "      <th>4</th>\n",
       "      <td>Computer</td>\n",
       "      <td>83.0</td>\n",
       "      <td>Fsc Pre Engineering</td>\n",
       "      <td>60 - 75</td>\n",
       "      <td>Computer Science</td>\n",
       "      <td>Software Engineering</td>\n",
       "      <td>Software Engineering</td>\n",
       "    </tr>\n",
       "  </tbody>\n",
       "</table>\n",
       "</div>"
      ],
      "text/plain": [
       "  Major Subjects in Matric  Matric Percentage Major in Intermediate  \\\n",
       "0                  Biology               87.0              A Levels   \n",
       "1                  O Level               80.0              A Levels   \n",
       "2                  Biology               87.0              A Levels   \n",
       "3                 Computer               75.0   Fsc Pre Engineering   \n",
       "4                 Computer               83.0   Fsc Pre Engineering   \n",
       "\n",
       "  Intermediate Percentage                   Favorite Subject  \\\n",
       "0                 75 - 99                            Biology   \n",
       "1                 60 - 75  Finance / Accounting / Statistics   \n",
       "2                 75 - 99                            Physics   \n",
       "3                 60 - 75                   Computer Science   \n",
       "4                 60 - 75                   Computer Science   \n",
       "\n",
       "          Area of Interest      Your Current Domain  \n",
       "0             Bio Sciences             Bio Sciences  \n",
       "1  Business Administration  Business Administration  \n",
       "2             Bio Sciences             Bio Sciences  \n",
       "3     Software Engineering         Computer Science  \n",
       "4     Software Engineering     Software Engineering  "
      ]
     },
     "execution_count": 75,
     "metadata": {},
     "output_type": "execute_result"
    }
   ],
   "source": [
    "data.head()"
   ]
  },
  {
   "cell_type": "code",
   "execution_count": 76,
   "metadata": {},
   "outputs": [
    {
     "data": {
      "text/plain": [
       "Major Subjects in Matric    0\n",
       "Matric Percentage           0\n",
       "Major in Intermediate       0\n",
       "Intermediate Percentage     0\n",
       "Favorite Subject            0\n",
       "Area of Interest            0\n",
       "Your Current Domain         0\n",
       "dtype: int64"
      ]
     },
     "execution_count": 76,
     "metadata": {},
     "output_type": "execute_result"
    }
   ],
   "source": [
    "data.isnull().sum()"
   ]
  },
  {
   "cell_type": "code",
   "execution_count": 78,
   "metadata": {},
   "outputs": [
    {
     "data": {
      "text/plain": [
       "Major Subjects in Matric\n",
       "Computer    532\n",
       "Biology     326\n",
       "O Level     104\n",
       "Arts         55\n",
       "Name: count, dtype: int64"
      ]
     },
     "execution_count": 78,
     "metadata": {},
     "output_type": "execute_result"
    }
   ],
   "source": [
    "data[\"Major Subjects in Matric\"].value_counts()"
   ]
  },
  {
   "cell_type": "code",
   "execution_count": 79,
   "metadata": {},
   "outputs": [
    {
     "data": {
      "text/plain": [
       "Favorite Subject\n",
       "Finance / Accounting / Statistics    247\n",
       "Computer Science                     210\n",
       "Biology                              166\n",
       "English                              144\n",
       "Mathematics                          106\n",
       "Chemistry                             82\n",
       "Physics                               62\n",
       "Name: count, dtype: int64"
      ]
     },
     "execution_count": 79,
     "metadata": {},
     "output_type": "execute_result"
    }
   ],
   "source": [
    "data[\"Favorite Subject\"].value_counts()"
   ]
  },
  {
   "cell_type": "code",
   "execution_count": 43,
   "metadata": {},
   "outputs": [
    {
     "data": {
      "text/plain": [
       "Area of Interest\n",
       "Account and Finance        219\n",
       "Computer Science           182\n",
       "Bio Sciences               162\n",
       "English                     91\n",
       "Software Engineering        84\n",
       "Psychology                  64\n",
       "Mathematics                 61\n",
       "Civil Engineering           44\n",
       "Business Administration     43\n",
       "Mechanical Engineering      38\n",
       "Electrical Engineering      29\n",
       "Name: count, dtype: int64"
      ]
     },
     "execution_count": 43,
     "metadata": {},
     "output_type": "execute_result"
    }
   ],
   "source": [
    "data[\"Area of Interest\"].value_counts()"
   ]
  },
  {
   "cell_type": "code",
   "execution_count": 44,
   "metadata": {},
   "outputs": [
    {
     "data": {
      "text/plain": [
       "Your Current Domain\n",
       "Account and Finance        214\n",
       "Bio Sciences               180\n",
       "Computer Science           173\n",
       "Software Engineering        92\n",
       "English                     87\n",
       "Psychology                  60\n",
       "Business Administration     54\n",
       "Mathematics                 49\n",
       "Civil Engineering           40\n",
       "Mechanical Engineering      36\n",
       "Electrical Engineering      32\n",
       "Name: count, dtype: int64"
      ]
     },
     "execution_count": 44,
     "metadata": {},
     "output_type": "execute_result"
    }
   ],
   "source": [
    "data[\"Your Current Domain\"].value_counts()"
   ]
  },
  {
   "cell_type": "code",
   "execution_count": 45,
   "metadata": {},
   "outputs": [
    {
     "data": {
      "text/plain": [
       "Major in Intermediate\n",
       "I COM                  295\n",
       "Fsc Pre Engineering    244\n",
       "Fsc Pre Medical        216\n",
       "A Levels               139\n",
       "ICS                    123\n",
       "Name: count, dtype: int64"
      ]
     },
     "execution_count": 45,
     "metadata": {},
     "output_type": "execute_result"
    }
   ],
   "source": [
    "data[\"Major in Intermediate\"].value_counts()"
   ]
  },
  {
   "cell_type": "code",
   "execution_count": 80,
   "metadata": {},
   "outputs": [],
   "source": [
    "np.random.seed(42)  \n",
    "ages = np.random.randint(6, 18, size=len(data))\n",
    "\n",
    "data['Age'] = ages"
   ]
  },
  {
   "cell_type": "code",
   "execution_count": 81,
   "metadata": {},
   "outputs": [
    {
     "data": {
      "text/html": [
       "<div>\n",
       "<style scoped>\n",
       "    .dataframe tbody tr th:only-of-type {\n",
       "        vertical-align: middle;\n",
       "    }\n",
       "\n",
       "    .dataframe tbody tr th {\n",
       "        vertical-align: top;\n",
       "    }\n",
       "\n",
       "    .dataframe thead th {\n",
       "        text-align: right;\n",
       "    }\n",
       "</style>\n",
       "<table border=\"1\" class=\"dataframe\">\n",
       "  <thead>\n",
       "    <tr style=\"text-align: right;\">\n",
       "      <th></th>\n",
       "      <th>Major Subjects in Matric</th>\n",
       "      <th>Matric Percentage</th>\n",
       "      <th>Major in Intermediate</th>\n",
       "      <th>Intermediate Percentage</th>\n",
       "      <th>Favorite Subject</th>\n",
       "      <th>Area of Interest</th>\n",
       "      <th>Your Current Domain</th>\n",
       "      <th>Age</th>\n",
       "    </tr>\n",
       "  </thead>\n",
       "  <tbody>\n",
       "    <tr>\n",
       "      <th>0</th>\n",
       "      <td>Biology</td>\n",
       "      <td>87.0</td>\n",
       "      <td>A Levels</td>\n",
       "      <td>75 - 99</td>\n",
       "      <td>Biology</td>\n",
       "      <td>Bio Sciences</td>\n",
       "      <td>Bio Sciences</td>\n",
       "      <td>12</td>\n",
       "    </tr>\n",
       "    <tr>\n",
       "      <th>1</th>\n",
       "      <td>O Level</td>\n",
       "      <td>80.0</td>\n",
       "      <td>A Levels</td>\n",
       "      <td>60 - 75</td>\n",
       "      <td>Finance / Accounting / Statistics</td>\n",
       "      <td>Business Administration</td>\n",
       "      <td>Business Administration</td>\n",
       "      <td>9</td>\n",
       "    </tr>\n",
       "    <tr>\n",
       "      <th>2</th>\n",
       "      <td>Biology</td>\n",
       "      <td>87.0</td>\n",
       "      <td>A Levels</td>\n",
       "      <td>75 - 99</td>\n",
       "      <td>Physics</td>\n",
       "      <td>Bio Sciences</td>\n",
       "      <td>Bio Sciences</td>\n",
       "      <td>16</td>\n",
       "    </tr>\n",
       "    <tr>\n",
       "      <th>3</th>\n",
       "      <td>Computer</td>\n",
       "      <td>75.0</td>\n",
       "      <td>Fsc Pre Engineering</td>\n",
       "      <td>60 - 75</td>\n",
       "      <td>Computer Science</td>\n",
       "      <td>Software Engineering</td>\n",
       "      <td>Computer Science</td>\n",
       "      <td>13</td>\n",
       "    </tr>\n",
       "    <tr>\n",
       "      <th>4</th>\n",
       "      <td>Computer</td>\n",
       "      <td>83.0</td>\n",
       "      <td>Fsc Pre Engineering</td>\n",
       "      <td>60 - 75</td>\n",
       "      <td>Computer Science</td>\n",
       "      <td>Software Engineering</td>\n",
       "      <td>Software Engineering</td>\n",
       "      <td>10</td>\n",
       "    </tr>\n",
       "  </tbody>\n",
       "</table>\n",
       "</div>"
      ],
      "text/plain": [
       "  Major Subjects in Matric  Matric Percentage Major in Intermediate  \\\n",
       "0                  Biology               87.0              A Levels   \n",
       "1                  O Level               80.0              A Levels   \n",
       "2                  Biology               87.0              A Levels   \n",
       "3                 Computer               75.0   Fsc Pre Engineering   \n",
       "4                 Computer               83.0   Fsc Pre Engineering   \n",
       "\n",
       "  Intermediate Percentage                   Favorite Subject  \\\n",
       "0                 75 - 99                            Biology   \n",
       "1                 60 - 75  Finance / Accounting / Statistics   \n",
       "2                 75 - 99                            Physics   \n",
       "3                 60 - 75                   Computer Science   \n",
       "4                 60 - 75                   Computer Science   \n",
       "\n",
       "          Area of Interest      Your Current Domain  Age  \n",
       "0             Bio Sciences             Bio Sciences   12  \n",
       "1  Business Administration  Business Administration    9  \n",
       "2             Bio Sciences             Bio Sciences   16  \n",
       "3     Software Engineering         Computer Science   13  \n",
       "4     Software Engineering     Software Engineering   10  "
      ]
     },
     "execution_count": 81,
     "metadata": {},
     "output_type": "execute_result"
    }
   ],
   "source": [
    "data.head()"
   ]
  },
  {
   "cell_type": "code",
   "execution_count": 82,
   "metadata": {},
   "outputs": [],
   "source": [
    "data = data.drop(columns = [\"Intermediate Percentage\"],axis=1)"
   ]
  },
  {
   "cell_type": "code",
   "execution_count": 83,
   "metadata": {},
   "outputs": [],
   "source": [
    "data.rename(columns={'Your Current Domain': 'Atelier Recomender'}, inplace=True)"
   ]
  },
  {
   "cell_type": "code",
   "execution_count": 84,
   "metadata": {},
   "outputs": [],
   "source": [
    "data = data.drop(columns = [\"Major in Intermediate\"],axis=1)\n",
    "data.rename(columns={'Major Subjects in Matric': 'Main Domain'}, inplace=True)\n",
    "data.rename(columns={'Matric Percentage': 'Main Domain Percentage'}, inplace=True)"
   ]
  },
  {
   "cell_type": "code",
   "execution_count": 85,
   "metadata": {},
   "outputs": [],
   "source": [
    "new_order = [\"Age\",\"Main Domain\",\"Main Domain Percentage\",\"Favorite Subject\",\"Area of Interest\",\"Atelier Recomender\"]\n",
    "data = data[new_order]"
   ]
  },
  {
   "cell_type": "code",
   "execution_count": 86,
   "metadata": {},
   "outputs": [
    {
     "data": {
      "text/html": [
       "<div>\n",
       "<style scoped>\n",
       "    .dataframe tbody tr th:only-of-type {\n",
       "        vertical-align: middle;\n",
       "    }\n",
       "\n",
       "    .dataframe tbody tr th {\n",
       "        vertical-align: top;\n",
       "    }\n",
       "\n",
       "    .dataframe thead th {\n",
       "        text-align: right;\n",
       "    }\n",
       "</style>\n",
       "<table border=\"1\" class=\"dataframe\">\n",
       "  <thead>\n",
       "    <tr style=\"text-align: right;\">\n",
       "      <th></th>\n",
       "      <th>Age</th>\n",
       "      <th>Main Domain</th>\n",
       "      <th>Main Domain Percentage</th>\n",
       "      <th>Favorite Subject</th>\n",
       "      <th>Area of Interest</th>\n",
       "      <th>Atelier Recomender</th>\n",
       "    </tr>\n",
       "  </thead>\n",
       "  <tbody>\n",
       "    <tr>\n",
       "      <th>0</th>\n",
       "      <td>12</td>\n",
       "      <td>Biology</td>\n",
       "      <td>87.0</td>\n",
       "      <td>Biology</td>\n",
       "      <td>Bio Sciences</td>\n",
       "      <td>Bio Sciences</td>\n",
       "    </tr>\n",
       "    <tr>\n",
       "      <th>1</th>\n",
       "      <td>9</td>\n",
       "      <td>O Level</td>\n",
       "      <td>80.0</td>\n",
       "      <td>Finance / Accounting / Statistics</td>\n",
       "      <td>Business Administration</td>\n",
       "      <td>Business Administration</td>\n",
       "    </tr>\n",
       "    <tr>\n",
       "      <th>2</th>\n",
       "      <td>16</td>\n",
       "      <td>Biology</td>\n",
       "      <td>87.0</td>\n",
       "      <td>Physics</td>\n",
       "      <td>Bio Sciences</td>\n",
       "      <td>Bio Sciences</td>\n",
       "    </tr>\n",
       "    <tr>\n",
       "      <th>3</th>\n",
       "      <td>13</td>\n",
       "      <td>Computer</td>\n",
       "      <td>75.0</td>\n",
       "      <td>Computer Science</td>\n",
       "      <td>Software Engineering</td>\n",
       "      <td>Computer Science</td>\n",
       "    </tr>\n",
       "    <tr>\n",
       "      <th>4</th>\n",
       "      <td>10</td>\n",
       "      <td>Computer</td>\n",
       "      <td>83.0</td>\n",
       "      <td>Computer Science</td>\n",
       "      <td>Software Engineering</td>\n",
       "      <td>Software Engineering</td>\n",
       "    </tr>\n",
       "  </tbody>\n",
       "</table>\n",
       "</div>"
      ],
      "text/plain": [
       "   Age Main Domain  Main Domain Percentage                   Favorite Subject  \\\n",
       "0   12     Biology                    87.0                            Biology   \n",
       "1    9     O Level                    80.0  Finance / Accounting / Statistics   \n",
       "2   16     Biology                    87.0                            Physics   \n",
       "3   13    Computer                    75.0                   Computer Science   \n",
       "4   10    Computer                    83.0                   Computer Science   \n",
       "\n",
       "          Area of Interest       Atelier Recomender  \n",
       "0             Bio Sciences             Bio Sciences  \n",
       "1  Business Administration  Business Administration  \n",
       "2             Bio Sciences             Bio Sciences  \n",
       "3     Software Engineering         Computer Science  \n",
       "4     Software Engineering     Software Engineering  "
      ]
     },
     "execution_count": 86,
     "metadata": {},
     "output_type": "execute_result"
    }
   ],
   "source": [
    "data.head()"
   ]
  },
  {
   "cell_type": "code",
   "execution_count": 88,
   "metadata": {},
   "outputs": [],
   "source": [
    "data.to_csv('data.csv', index=False)"
   ]
  },
  {
   "cell_type": "code",
   "execution_count": 53,
   "metadata": {},
   "outputs": [
    {
     "data": {
      "text/plain": [
       "Atelier Recomender\n",
       "Account and Finance        214\n",
       "Bio Sciences               180\n",
       "Computer Science           173\n",
       "Software Engineering        92\n",
       "English                     87\n",
       "Psychology                  60\n",
       "Business Administration     54\n",
       "Mathematics                 49\n",
       "Civil Engineering           40\n",
       "Mechanical Engineering      36\n",
       "Electrical Engineering      32\n",
       "Name: count, dtype: int64"
      ]
     },
     "execution_count": 53,
     "metadata": {},
     "output_type": "execute_result"
    }
   ],
   "source": [
    "data[\"Atelier Recomender\"].value_counts()"
   ]
  },
  {
   "cell_type": "code",
   "execution_count": 54,
   "metadata": {},
   "outputs": [
    {
     "data": {
      "text/plain": [
       "(1017, 6)"
      ]
     },
     "execution_count": 54,
     "metadata": {},
     "output_type": "execute_result"
    }
   ],
   "source": [
    "data.shape"
   ]
  },
  {
   "cell_type": "code",
   "execution_count": 55,
   "metadata": {},
   "outputs": [],
   "source": [
    "data['Main Domain'] = data['Main Domain'].replace('O Level', 'Autre')"
   ]
  },
  {
   "cell_type": "code",
   "execution_count": 56,
   "metadata": {},
   "outputs": [
    {
     "data": {
      "text/plain": [
       "Main Domain\n",
       "Computer    532\n",
       "Biology     326\n",
       "Autre       104\n",
       "Arts         55\n",
       "Name: count, dtype: int64"
      ]
     },
     "execution_count": 56,
     "metadata": {},
     "output_type": "execute_result"
    }
   ],
   "source": [
    "data[\"Main Domain\"].value_counts()"
   ]
  },
  {
   "cell_type": "code",
   "execution_count": 57,
   "metadata": {},
   "outputs": [
    {
     "name": "stdout",
     "output_type": "stream",
     "text": [
      "Main Domain\n",
      "1    532\n",
      "2    326\n",
      "4    104\n",
      "3     55\n",
      "Name: count, dtype: int64\n"
     ]
    }
   ],
   "source": [
    "# Utiliser inplace=True correctement\n",
    "data['Main Domain'].replace({\n",
    "    'Computer': 1,\n",
    "    'Biology': 2,\n",
    "    'Autre': 4,\n",
    "    'Arts': 3\n",
    "}, inplace=True)\n",
    "# Vérifier les changements\n",
    "print(data['Main Domain'].value_counts())"
   ]
  },
  {
   "cell_type": "code",
   "execution_count": 64,
   "metadata": {},
   "outputs": [
    {
     "data": {
      "text/plain": [
       "Favorite Subject\n",
       "Finance / Accounting / Statistics    247\n",
       "Computer Science                     210\n",
       "Biology                              166\n",
       "English                              144\n",
       "Mathematics                          106\n",
       "Chemistry                             82\n",
       "Physics                               62\n",
       "Name: count, dtype: int64"
      ]
     },
     "execution_count": 64,
     "metadata": {},
     "output_type": "execute_result"
    }
   ],
   "source": [
    "data[\"Favorite Subject\"].value_counts()"
   ]
  },
  {
   "cell_type": "code",
   "execution_count": 66,
   "metadata": {},
   "outputs": [
    {
     "name": "stdout",
     "output_type": "stream",
     "text": [
      "Favorite Subject\n",
      "1    247\n",
      "2    210\n",
      "3    166\n",
      "4    144\n",
      "5    106\n",
      "6     82\n",
      "7     62\n",
      "Name: count, dtype: int64\n"
     ]
    }
   ],
   "source": [
    "# Utiliser inplace=True correctement\n",
    "data['Favorite Subject'].replace({\n",
    "    'Finance / Accounting / Statistics': 1,\n",
    "    'Computer Science': 2,\n",
    "    'Biology': 3,\n",
    "    'English': 4,\n",
    "    'Mathematics': 5,\n",
    "    'Chemistry': 6,\n",
    "    'Physics': 7\n",
    "}, inplace=True)\n",
    "# Vérifier les changements\n",
    "print(data['Favorite Subject'].value_counts())"
   ]
  },
  {
   "cell_type": "code",
   "execution_count": 67,
   "metadata": {},
   "outputs": [
    {
     "data": {
      "text/plain": [
       "Area of Interest\n",
       "Account and Finance        219\n",
       "Computer Science           182\n",
       "Bio Sciences               162\n",
       "English                     91\n",
       "Software Engineering        84\n",
       "Psychology                  64\n",
       "Mathematics                 61\n",
       "Civil Engineering           44\n",
       "Business Administration     43\n",
       "Mechanical Engineering      38\n",
       "Electrical Engineering      29\n",
       "Name: count, dtype: int64"
      ]
     },
     "execution_count": 67,
     "metadata": {},
     "output_type": "execute_result"
    }
   ],
   "source": [
    "data[\"Area of Interest\"].value_counts()"
   ]
  },
  {
   "cell_type": "code",
   "execution_count": null,
   "metadata": {},
   "outputs": [],
   "source": [
    "# Utiliser inplace=True correctement\n",
    "data['Area of Interest'].replace({\n",
    "    'Account and Finance': 1,\n",
    "    'Computer Science': 2,\n",
    "    'Biology': 3,\n",
    "    'English': 4,\n",
    "    'Mathematics': 5,\n",
    "    'Chemistry': 6,\n",
    "    'Physics': 7\n",
    "}, inplace=True)\n",
    "# Vérifier les changements\n",
    "print(data['Favorite Subject'].value_counts())"
   ]
  },
  {
   "cell_type": "code",
   "execution_count": 58,
   "metadata": {},
   "outputs": [
    {
     "name": "stdout",
     "output_type": "stream",
     "text": [
      "[2 4 1 3]\n"
     ]
    }
   ],
   "source": [
    "# Vérifier les valeurs uniques dans la colonne avant de faire des changements\n",
    "print(data['Main Domain'].unique())"
   ]
  },
  {
   "cell_type": "code",
   "execution_count": 68,
   "metadata": {},
   "outputs": [
    {
     "name": "stdout",
     "output_type": "stream",
     "text": [
      "Area of Interest\n",
      "1     219\n",
      "2     182\n",
      "3     162\n",
      "4      91\n",
      "5      84\n",
      "6      64\n",
      "7      61\n",
      "8      44\n",
      "9      43\n",
      "10     38\n",
      "11     29\n",
      "Name: count, dtype: int64\n"
     ]
    }
   ],
   "source": [
    "data[\"Area of Interest\"].value_counts()\n",
    "# Remplacer les valeurs textuelles par des valeurs numériques\n",
    "data['Area of Interest'].replace({\n",
    "    'Account and Finance': 1,\n",
    "    'Computer Science': 2,\n",
    "    'Bio Sciences': 3,\n",
    "    'English': 4,\n",
    "    'Software Engineering': 5,\n",
    "    'Psychology': 6,\n",
    "    'Mathematics': 7,\n",
    "    'Civil Engineering': 8,\n",
    "    'Business Administration': 9,\n",
    "    'Mechanical Engineering': 10,\n",
    "    'Electrical Engineering': 11\n",
    "}, inplace=True)\n",
    "\n",
    "# Vérifier les changements\n",
    "print(data['Area of Interest'].value_counts())\n"
   ]
  },
  {
   "cell_type": "code",
   "execution_count": 69,
   "metadata": {},
   "outputs": [
    {
     "data": {
      "text/html": [
       "<div>\n",
       "<style scoped>\n",
       "    .dataframe tbody tr th:only-of-type {\n",
       "        vertical-align: middle;\n",
       "    }\n",
       "\n",
       "    .dataframe tbody tr th {\n",
       "        vertical-align: top;\n",
       "    }\n",
       "\n",
       "    .dataframe thead th {\n",
       "        text-align: right;\n",
       "    }\n",
       "</style>\n",
       "<table border=\"1\" class=\"dataframe\">\n",
       "  <thead>\n",
       "    <tr style=\"text-align: right;\">\n",
       "      <th></th>\n",
       "      <th>Age</th>\n",
       "      <th>Main Domain</th>\n",
       "      <th>Main Domain Percentage</th>\n",
       "      <th>Favorite Subject</th>\n",
       "      <th>Area of Interest</th>\n",
       "      <th>Atelier Recomender</th>\n",
       "    </tr>\n",
       "  </thead>\n",
       "  <tbody>\n",
       "    <tr>\n",
       "      <th>0</th>\n",
       "      <td>12</td>\n",
       "      <td>2</td>\n",
       "      <td>87.0</td>\n",
       "      <td>3</td>\n",
       "      <td>3</td>\n",
       "      <td>Bio Sciences</td>\n",
       "    </tr>\n",
       "    <tr>\n",
       "      <th>1</th>\n",
       "      <td>9</td>\n",
       "      <td>4</td>\n",
       "      <td>80.0</td>\n",
       "      <td>1</td>\n",
       "      <td>9</td>\n",
       "      <td>Business Administration</td>\n",
       "    </tr>\n",
       "    <tr>\n",
       "      <th>2</th>\n",
       "      <td>16</td>\n",
       "      <td>2</td>\n",
       "      <td>87.0</td>\n",
       "      <td>7</td>\n",
       "      <td>3</td>\n",
       "      <td>Bio Sciences</td>\n",
       "    </tr>\n",
       "    <tr>\n",
       "      <th>3</th>\n",
       "      <td>13</td>\n",
       "      <td>1</td>\n",
       "      <td>75.0</td>\n",
       "      <td>2</td>\n",
       "      <td>5</td>\n",
       "      <td>Computer Science</td>\n",
       "    </tr>\n",
       "    <tr>\n",
       "      <th>4</th>\n",
       "      <td>10</td>\n",
       "      <td>1</td>\n",
       "      <td>83.0</td>\n",
       "      <td>2</td>\n",
       "      <td>5</td>\n",
       "      <td>Software Engineering</td>\n",
       "    </tr>\n",
       "  </tbody>\n",
       "</table>\n",
       "</div>"
      ],
      "text/plain": [
       "   Age  Main Domain  Main Domain Percentage  Favorite Subject  \\\n",
       "0   12            2                    87.0                 3   \n",
       "1    9            4                    80.0                 1   \n",
       "2   16            2                    87.0                 7   \n",
       "3   13            1                    75.0                 2   \n",
       "4   10            1                    83.0                 2   \n",
       "\n",
       "   Area of Interest       Atelier Recomender  \n",
       "0                 3             Bio Sciences  \n",
       "1                 9  Business Administration  \n",
       "2                 3             Bio Sciences  \n",
       "3                 5         Computer Science  \n",
       "4                 5     Software Engineering  "
      ]
     },
     "execution_count": 69,
     "metadata": {},
     "output_type": "execute_result"
    }
   ],
   "source": [
    "data.head()"
   ]
  },
  {
   "cell_type": "code",
   "execution_count": 70,
   "metadata": {},
   "outputs": [
    {
     "data": {
      "text/plain": [
       "Atelier Recomender\n",
       "Account and Finance        214\n",
       "Bio Sciences               180\n",
       "Computer Science           173\n",
       "Software Engineering        92\n",
       "English                     87\n",
       "Psychology                  60\n",
       "Business Administration     54\n",
       "Mathematics                 49\n",
       "Civil Engineering           40\n",
       "Mechanical Engineering      36\n",
       "Electrical Engineering      32\n",
       "Name: count, dtype: int64"
      ]
     },
     "execution_count": 70,
     "metadata": {},
     "output_type": "execute_result"
    }
   ],
   "source": [
    "data['Atelier Recomender'].value_counts()"
   ]
  },
  {
   "cell_type": "code",
   "execution_count": 60,
   "metadata": {},
   "outputs": [],
   "source": [
    "X = data.drop((\"Atelier Recomender\"), axis = 1)\n",
    "Y = data[\"Atelier Recomender\"]"
   ]
  },
  {
   "cell_type": "code",
   "execution_count": 61,
   "metadata": {},
   "outputs": [],
   "source": [
    "X_train, X_test, Y_train, Y_test = train_test_split(X, Y, test_size = 0.2, random_state=2)"
   ]
  },
  {
   "cell_type": "code",
   "execution_count": 62,
   "metadata": {},
   "outputs": [],
   "source": [
    "model = LogisticRegression(max_iter=1000)"
   ]
  },
  {
   "cell_type": "code",
   "execution_count": 63,
   "metadata": {},
   "outputs": [
    {
     "ename": "ValueError",
     "evalue": "could not convert string to float: 'Biology'",
     "output_type": "error",
     "traceback": [
      "\u001b[1;31m---------------------------------------------------------------------------\u001b[0m",
      "\u001b[1;31mValueError\u001b[0m                                Traceback (most recent call last)",
      "\u001b[1;32m~\\AppData\\Local\\Temp\\ipykernel_10884\\1419240007.py\u001b[0m in \u001b[0;36m?\u001b[1;34m()\u001b[0m\n\u001b[1;32m----> 1\u001b[1;33m \u001b[0mmodel\u001b[0m\u001b[1;33m.\u001b[0m\u001b[0mfit\u001b[0m\u001b[1;33m(\u001b[0m\u001b[0mX_train\u001b[0m\u001b[1;33m,\u001b[0m \u001b[0mY_train\u001b[0m\u001b[1;33m)\u001b[0m\u001b[1;33m\u001b[0m\u001b[1;33m\u001b[0m\u001b[0m\n\u001b[0m\u001b[0;32m      2\u001b[0m \u001b[1;33m\u001b[0m\u001b[0m\n\u001b[0;32m      3\u001b[0m \u001b[1;31m# Prédire et évaluer le modèle\u001b[0m\u001b[1;33m\u001b[0m\u001b[1;33m\u001b[0m\u001b[0m\n\u001b[0;32m      4\u001b[0m \u001b[0mpredictions\u001b[0m \u001b[1;33m=\u001b[0m \u001b[0mmodel\u001b[0m\u001b[1;33m.\u001b[0m\u001b[0mpredict\u001b[0m\u001b[1;33m(\u001b[0m\u001b[0mX_test\u001b[0m\u001b[1;33m)\u001b[0m\u001b[1;33m\u001b[0m\u001b[1;33m\u001b[0m\u001b[0m\n",
      "\u001b[1;32mc:\\Users\\HP\\AppData\\Local\\Programs\\Python\\Python312\\Lib\\site-packages\\sklearn\\base.py\u001b[0m in \u001b[0;36m?\u001b[1;34m(estimator, *args, **kwargs)\u001b[0m\n\u001b[0;32m   1148\u001b[0m                 skip_parameter_validation=(\n\u001b[0;32m   1149\u001b[0m                     \u001b[0mprefer_skip_nested_validation\u001b[0m \u001b[1;32mor\u001b[0m \u001b[0mglobal_skip_validation\u001b[0m\u001b[1;33m\u001b[0m\u001b[1;33m\u001b[0m\u001b[0m\n\u001b[0;32m   1150\u001b[0m                 \u001b[1;33m)\u001b[0m\u001b[1;33m\u001b[0m\u001b[1;33m\u001b[0m\u001b[0m\n\u001b[0;32m   1151\u001b[0m             \u001b[1;33m)\u001b[0m\u001b[1;33m:\u001b[0m\u001b[1;33m\u001b[0m\u001b[1;33m\u001b[0m\u001b[0m\n\u001b[1;32m-> 1152\u001b[1;33m                 \u001b[1;32mreturn\u001b[0m \u001b[0mfit_method\u001b[0m\u001b[1;33m(\u001b[0m\u001b[0mestimator\u001b[0m\u001b[1;33m,\u001b[0m \u001b[1;33m*\u001b[0m\u001b[0margs\u001b[0m\u001b[1;33m,\u001b[0m \u001b[1;33m**\u001b[0m\u001b[0mkwargs\u001b[0m\u001b[1;33m)\u001b[0m\u001b[1;33m\u001b[0m\u001b[1;33m\u001b[0m\u001b[0m\n\u001b[0m",
      "\u001b[1;32mc:\\Users\\HP\\AppData\\Local\\Programs\\Python\\Python312\\Lib\\site-packages\\sklearn\\linear_model\\_logistic.py\u001b[0m in \u001b[0;36m?\u001b[1;34m(self, X, y, sample_weight)\u001b[0m\n\u001b[0;32m   1204\u001b[0m             \u001b[0m_dtype\u001b[0m \u001b[1;33m=\u001b[0m \u001b[0mnp\u001b[0m\u001b[1;33m.\u001b[0m\u001b[0mfloat64\u001b[0m\u001b[1;33m\u001b[0m\u001b[1;33m\u001b[0m\u001b[0m\n\u001b[0;32m   1205\u001b[0m         \u001b[1;32melse\u001b[0m\u001b[1;33m:\u001b[0m\u001b[1;33m\u001b[0m\u001b[1;33m\u001b[0m\u001b[0m\n\u001b[0;32m   1206\u001b[0m             \u001b[0m_dtype\u001b[0m \u001b[1;33m=\u001b[0m \u001b[1;33m[\u001b[0m\u001b[0mnp\u001b[0m\u001b[1;33m.\u001b[0m\u001b[0mfloat64\u001b[0m\u001b[1;33m,\u001b[0m \u001b[0mnp\u001b[0m\u001b[1;33m.\u001b[0m\u001b[0mfloat32\u001b[0m\u001b[1;33m]\u001b[0m\u001b[1;33m\u001b[0m\u001b[1;33m\u001b[0m\u001b[0m\n\u001b[0;32m   1207\u001b[0m \u001b[1;33m\u001b[0m\u001b[0m\n\u001b[1;32m-> 1208\u001b[1;33m         X, y = self._validate_data(\n\u001b[0m\u001b[0;32m   1209\u001b[0m             \u001b[0mX\u001b[0m\u001b[1;33m,\u001b[0m\u001b[1;33m\u001b[0m\u001b[1;33m\u001b[0m\u001b[0m\n\u001b[0;32m   1210\u001b[0m             \u001b[0my\u001b[0m\u001b[1;33m,\u001b[0m\u001b[1;33m\u001b[0m\u001b[1;33m\u001b[0m\u001b[0m\n\u001b[0;32m   1211\u001b[0m             \u001b[0maccept_sparse\u001b[0m\u001b[1;33m=\u001b[0m\u001b[1;34m\"csr\"\u001b[0m\u001b[1;33m,\u001b[0m\u001b[1;33m\u001b[0m\u001b[1;33m\u001b[0m\u001b[0m\n",
      "\u001b[1;32mc:\\Users\\HP\\AppData\\Local\\Programs\\Python\\Python312\\Lib\\site-packages\\sklearn\\base.py\u001b[0m in \u001b[0;36m?\u001b[1;34m(self, X, y, reset, validate_separately, cast_to_ndarray, **check_params)\u001b[0m\n\u001b[0;32m    618\u001b[0m                 \u001b[1;32mif\u001b[0m \u001b[1;34m\"estimator\"\u001b[0m \u001b[1;32mnot\u001b[0m \u001b[1;32min\u001b[0m \u001b[0mcheck_y_params\u001b[0m\u001b[1;33m:\u001b[0m\u001b[1;33m\u001b[0m\u001b[1;33m\u001b[0m\u001b[0m\n\u001b[0;32m    619\u001b[0m                     \u001b[0mcheck_y_params\u001b[0m \u001b[1;33m=\u001b[0m \u001b[1;33m{\u001b[0m\u001b[1;33m**\u001b[0m\u001b[0mdefault_check_params\u001b[0m\u001b[1;33m,\u001b[0m \u001b[1;33m**\u001b[0m\u001b[0mcheck_y_params\u001b[0m\u001b[1;33m}\u001b[0m\u001b[1;33m\u001b[0m\u001b[1;33m\u001b[0m\u001b[0m\n\u001b[0;32m    620\u001b[0m                 \u001b[0my\u001b[0m \u001b[1;33m=\u001b[0m \u001b[0mcheck_array\u001b[0m\u001b[1;33m(\u001b[0m\u001b[0my\u001b[0m\u001b[1;33m,\u001b[0m \u001b[0minput_name\u001b[0m\u001b[1;33m=\u001b[0m\u001b[1;34m\"y\"\u001b[0m\u001b[1;33m,\u001b[0m \u001b[1;33m**\u001b[0m\u001b[0mcheck_y_params\u001b[0m\u001b[1;33m)\u001b[0m\u001b[1;33m\u001b[0m\u001b[1;33m\u001b[0m\u001b[0m\n\u001b[0;32m    621\u001b[0m             \u001b[1;32melse\u001b[0m\u001b[1;33m:\u001b[0m\u001b[1;33m\u001b[0m\u001b[1;33m\u001b[0m\u001b[0m\n\u001b[1;32m--> 622\u001b[1;33m                 \u001b[0mX\u001b[0m\u001b[1;33m,\u001b[0m \u001b[0my\u001b[0m \u001b[1;33m=\u001b[0m \u001b[0mcheck_X_y\u001b[0m\u001b[1;33m(\u001b[0m\u001b[0mX\u001b[0m\u001b[1;33m,\u001b[0m \u001b[0my\u001b[0m\u001b[1;33m,\u001b[0m \u001b[1;33m**\u001b[0m\u001b[0mcheck_params\u001b[0m\u001b[1;33m)\u001b[0m\u001b[1;33m\u001b[0m\u001b[1;33m\u001b[0m\u001b[0m\n\u001b[0m\u001b[0;32m    623\u001b[0m             \u001b[0mout\u001b[0m \u001b[1;33m=\u001b[0m \u001b[0mX\u001b[0m\u001b[1;33m,\u001b[0m \u001b[0my\u001b[0m\u001b[1;33m\u001b[0m\u001b[1;33m\u001b[0m\u001b[0m\n\u001b[0;32m    624\u001b[0m \u001b[1;33m\u001b[0m\u001b[0m\n\u001b[0;32m    625\u001b[0m         \u001b[1;32mif\u001b[0m \u001b[1;32mnot\u001b[0m \u001b[0mno_val_X\u001b[0m \u001b[1;32mand\u001b[0m \u001b[0mcheck_params\u001b[0m\u001b[1;33m.\u001b[0m\u001b[0mget\u001b[0m\u001b[1;33m(\u001b[0m\u001b[1;34m\"ensure_2d\"\u001b[0m\u001b[1;33m,\u001b[0m \u001b[1;32mTrue\u001b[0m\u001b[1;33m)\u001b[0m\u001b[1;33m:\u001b[0m\u001b[1;33m\u001b[0m\u001b[1;33m\u001b[0m\u001b[0m\n",
      "\u001b[1;32mc:\\Users\\HP\\AppData\\Local\\Programs\\Python\\Python312\\Lib\\site-packages\\sklearn\\utils\\validation.py\u001b[0m in \u001b[0;36m?\u001b[1;34m(X, y, accept_sparse, accept_large_sparse, dtype, order, copy, force_all_finite, ensure_2d, allow_nd, multi_output, ensure_min_samples, ensure_min_features, y_numeric, estimator)\u001b[0m\n\u001b[0;32m   1142\u001b[0m         raise ValueError(\n\u001b[0;32m   1143\u001b[0m             \u001b[1;33mf\"\u001b[0m\u001b[1;33m{\u001b[0m\u001b[0mestimator_name\u001b[0m\u001b[1;33m}\u001b[0m\u001b[1;33m requires y to be passed, but the target y is None\u001b[0m\u001b[1;33m\"\u001b[0m\u001b[1;33m\u001b[0m\u001b[1;33m\u001b[0m\u001b[0m\n\u001b[0;32m   1144\u001b[0m         \u001b[1;33m)\u001b[0m\u001b[1;33m\u001b[0m\u001b[1;33m\u001b[0m\u001b[0m\n\u001b[0;32m   1145\u001b[0m \u001b[1;33m\u001b[0m\u001b[0m\n\u001b[1;32m-> 1146\u001b[1;33m     X = check_array(\n\u001b[0m\u001b[0;32m   1147\u001b[0m         \u001b[0mX\u001b[0m\u001b[1;33m,\u001b[0m\u001b[1;33m\u001b[0m\u001b[1;33m\u001b[0m\u001b[0m\n\u001b[0;32m   1148\u001b[0m         \u001b[0maccept_sparse\u001b[0m\u001b[1;33m=\u001b[0m\u001b[0maccept_sparse\u001b[0m\u001b[1;33m,\u001b[0m\u001b[1;33m\u001b[0m\u001b[1;33m\u001b[0m\u001b[0m\n\u001b[0;32m   1149\u001b[0m         \u001b[0maccept_large_sparse\u001b[0m\u001b[1;33m=\u001b[0m\u001b[0maccept_large_sparse\u001b[0m\u001b[1;33m,\u001b[0m\u001b[1;33m\u001b[0m\u001b[1;33m\u001b[0m\u001b[0m\n",
      "\u001b[1;32mc:\\Users\\HP\\AppData\\Local\\Programs\\Python\\Python312\\Lib\\site-packages\\sklearn\\utils\\validation.py\u001b[0m in \u001b[0;36m?\u001b[1;34m(array, accept_sparse, accept_large_sparse, dtype, order, copy, force_all_finite, ensure_2d, allow_nd, ensure_min_samples, ensure_min_features, estimator, input_name)\u001b[0m\n\u001b[0;32m    912\u001b[0m                         \u001b[1;33m)\u001b[0m\u001b[1;33m\u001b[0m\u001b[1;33m\u001b[0m\u001b[0m\n\u001b[0;32m    913\u001b[0m                     \u001b[0marray\u001b[0m \u001b[1;33m=\u001b[0m \u001b[0mxp\u001b[0m\u001b[1;33m.\u001b[0m\u001b[0mastype\u001b[0m\u001b[1;33m(\u001b[0m\u001b[0marray\u001b[0m\u001b[1;33m,\u001b[0m \u001b[0mdtype\u001b[0m\u001b[1;33m,\u001b[0m \u001b[0mcopy\u001b[0m\u001b[1;33m=\u001b[0m\u001b[1;32mFalse\u001b[0m\u001b[1;33m)\u001b[0m\u001b[1;33m\u001b[0m\u001b[1;33m\u001b[0m\u001b[0m\n\u001b[0;32m    914\u001b[0m                 \u001b[1;32melse\u001b[0m\u001b[1;33m:\u001b[0m\u001b[1;33m\u001b[0m\u001b[1;33m\u001b[0m\u001b[0m\n\u001b[0;32m    915\u001b[0m                     \u001b[0marray\u001b[0m \u001b[1;33m=\u001b[0m \u001b[0m_asarray_with_order\u001b[0m\u001b[1;33m(\u001b[0m\u001b[0marray\u001b[0m\u001b[1;33m,\u001b[0m \u001b[0morder\u001b[0m\u001b[1;33m=\u001b[0m\u001b[0morder\u001b[0m\u001b[1;33m,\u001b[0m \u001b[0mdtype\u001b[0m\u001b[1;33m=\u001b[0m\u001b[0mdtype\u001b[0m\u001b[1;33m,\u001b[0m \u001b[0mxp\u001b[0m\u001b[1;33m=\u001b[0m\u001b[0mxp\u001b[0m\u001b[1;33m)\u001b[0m\u001b[1;33m\u001b[0m\u001b[1;33m\u001b[0m\u001b[0m\n\u001b[1;32m--> 916\u001b[1;33m             \u001b[1;32mexcept\u001b[0m \u001b[0mComplexWarning\u001b[0m \u001b[1;32mas\u001b[0m \u001b[0mcomplex_warning\u001b[0m\u001b[1;33m:\u001b[0m\u001b[1;33m\u001b[0m\u001b[1;33m\u001b[0m\u001b[0m\n\u001b[0m\u001b[0;32m    917\u001b[0m                 raise ValueError(\n\u001b[0;32m    918\u001b[0m                     \u001b[1;34m\"Complex data not supported\\n{}\\n\"\u001b[0m\u001b[1;33m.\u001b[0m\u001b[0mformat\u001b[0m\u001b[1;33m(\u001b[0m\u001b[0marray\u001b[0m\u001b[1;33m)\u001b[0m\u001b[1;33m\u001b[0m\u001b[1;33m\u001b[0m\u001b[0m\n\u001b[0;32m    919\u001b[0m                 \u001b[1;33m)\u001b[0m \u001b[1;32mfrom\u001b[0m \u001b[0mcomplex_warning\u001b[0m\u001b[1;33m\u001b[0m\u001b[1;33m\u001b[0m\u001b[0m\n",
      "\u001b[1;32mc:\\Users\\HP\\AppData\\Local\\Programs\\Python\\Python312\\Lib\\site-packages\\sklearn\\utils\\_array_api.py\u001b[0m in \u001b[0;36m?\u001b[1;34m(array, dtype, order, copy, xp)\u001b[0m\n\u001b[0;32m    376\u001b[0m         \u001b[1;31m# Use NumPy API to support order\u001b[0m\u001b[1;33m\u001b[0m\u001b[1;33m\u001b[0m\u001b[0m\n\u001b[0;32m    377\u001b[0m         \u001b[1;32mif\u001b[0m \u001b[0mcopy\u001b[0m \u001b[1;32mis\u001b[0m \u001b[1;32mTrue\u001b[0m\u001b[1;33m:\u001b[0m\u001b[1;33m\u001b[0m\u001b[1;33m\u001b[0m\u001b[0m\n\u001b[0;32m    378\u001b[0m             \u001b[0marray\u001b[0m \u001b[1;33m=\u001b[0m \u001b[0mnumpy\u001b[0m\u001b[1;33m.\u001b[0m\u001b[0marray\u001b[0m\u001b[1;33m(\u001b[0m\u001b[0marray\u001b[0m\u001b[1;33m,\u001b[0m \u001b[0morder\u001b[0m\u001b[1;33m=\u001b[0m\u001b[0morder\u001b[0m\u001b[1;33m,\u001b[0m \u001b[0mdtype\u001b[0m\u001b[1;33m=\u001b[0m\u001b[0mdtype\u001b[0m\u001b[1;33m)\u001b[0m\u001b[1;33m\u001b[0m\u001b[1;33m\u001b[0m\u001b[0m\n\u001b[0;32m    379\u001b[0m         \u001b[1;32melse\u001b[0m\u001b[1;33m:\u001b[0m\u001b[1;33m\u001b[0m\u001b[1;33m\u001b[0m\u001b[0m\n\u001b[1;32m--> 380\u001b[1;33m             \u001b[0marray\u001b[0m \u001b[1;33m=\u001b[0m \u001b[0mnumpy\u001b[0m\u001b[1;33m.\u001b[0m\u001b[0masarray\u001b[0m\u001b[1;33m(\u001b[0m\u001b[0marray\u001b[0m\u001b[1;33m,\u001b[0m \u001b[0morder\u001b[0m\u001b[1;33m=\u001b[0m\u001b[0morder\u001b[0m\u001b[1;33m,\u001b[0m \u001b[0mdtype\u001b[0m\u001b[1;33m=\u001b[0m\u001b[0mdtype\u001b[0m\u001b[1;33m)\u001b[0m\u001b[1;33m\u001b[0m\u001b[1;33m\u001b[0m\u001b[0m\n\u001b[0m\u001b[0;32m    381\u001b[0m \u001b[1;33m\u001b[0m\u001b[0m\n\u001b[0;32m    382\u001b[0m         \u001b[1;31m# At this point array is a NumPy ndarray. We convert it to an array\u001b[0m\u001b[1;33m\u001b[0m\u001b[1;33m\u001b[0m\u001b[0m\n\u001b[0;32m    383\u001b[0m         \u001b[1;31m# container that is consistent with the input's namespace.\u001b[0m\u001b[1;33m\u001b[0m\u001b[1;33m\u001b[0m\u001b[0m\n",
      "\u001b[1;32mc:\\Users\\HP\\AppData\\Local\\Programs\\Python\\Python312\\Lib\\site-packages\\pandas\\core\\generic.py\u001b[0m in \u001b[0;36m?\u001b[1;34m(self, dtype)\u001b[0m\n\u001b[0;32m   2082\u001b[0m     \u001b[1;32mdef\u001b[0m \u001b[0m__array__\u001b[0m\u001b[1;33m(\u001b[0m\u001b[0mself\u001b[0m\u001b[1;33m,\u001b[0m \u001b[0mdtype\u001b[0m\u001b[1;33m:\u001b[0m \u001b[0mnpt\u001b[0m\u001b[1;33m.\u001b[0m\u001b[0mDTypeLike\u001b[0m \u001b[1;33m|\u001b[0m \u001b[1;32mNone\u001b[0m \u001b[1;33m=\u001b[0m \u001b[1;32mNone\u001b[0m\u001b[1;33m)\u001b[0m \u001b[1;33m->\u001b[0m \u001b[0mnp\u001b[0m\u001b[1;33m.\u001b[0m\u001b[0mndarray\u001b[0m\u001b[1;33m:\u001b[0m\u001b[1;33m\u001b[0m\u001b[1;33m\u001b[0m\u001b[0m\n\u001b[0;32m   2083\u001b[0m         \u001b[0mvalues\u001b[0m \u001b[1;33m=\u001b[0m \u001b[0mself\u001b[0m\u001b[1;33m.\u001b[0m\u001b[0m_values\u001b[0m\u001b[1;33m\u001b[0m\u001b[1;33m\u001b[0m\u001b[0m\n\u001b[1;32m-> 2084\u001b[1;33m         \u001b[0marr\u001b[0m \u001b[1;33m=\u001b[0m \u001b[0mnp\u001b[0m\u001b[1;33m.\u001b[0m\u001b[0masarray\u001b[0m\u001b[1;33m(\u001b[0m\u001b[0mvalues\u001b[0m\u001b[1;33m,\u001b[0m \u001b[0mdtype\u001b[0m\u001b[1;33m=\u001b[0m\u001b[0mdtype\u001b[0m\u001b[1;33m)\u001b[0m\u001b[1;33m\u001b[0m\u001b[1;33m\u001b[0m\u001b[0m\n\u001b[0m\u001b[0;32m   2085\u001b[0m         if (\n\u001b[0;32m   2086\u001b[0m             \u001b[0mastype_is_view\u001b[0m\u001b[1;33m(\u001b[0m\u001b[0mvalues\u001b[0m\u001b[1;33m.\u001b[0m\u001b[0mdtype\u001b[0m\u001b[1;33m,\u001b[0m \u001b[0marr\u001b[0m\u001b[1;33m.\u001b[0m\u001b[0mdtype\u001b[0m\u001b[1;33m)\u001b[0m\u001b[1;33m\u001b[0m\u001b[1;33m\u001b[0m\u001b[0m\n\u001b[0;32m   2087\u001b[0m             \u001b[1;32mand\u001b[0m \u001b[0musing_copy_on_write\u001b[0m\u001b[1;33m(\u001b[0m\u001b[1;33m)\u001b[0m\u001b[1;33m\u001b[0m\u001b[1;33m\u001b[0m\u001b[0m\n",
      "\u001b[1;31mValueError\u001b[0m: could not convert string to float: 'Biology'"
     ]
    }
   ],
   "source": [
    "model.fit(X_train, Y_train)\n",
    "\n",
    "# Prédire et évaluer le modèle\n",
    "predictions = model.predict(X_test)\n",
    "print(f'Accuracy: {accuracy_score(Y_test, predictions)}')"
   ]
  }
 ],
 "metadata": {
  "kernelspec": {
   "display_name": "Python 3",
   "language": "python",
   "name": "python3"
  },
  "language_info": {
   "codemirror_mode": {
    "name": "ipython",
    "version": 3
   },
   "file_extension": ".py",
   "mimetype": "text/x-python",
   "name": "python",
   "nbconvert_exporter": "python",
   "pygments_lexer": "ipython3",
   "version": "3.12.1"
  }
 },
 "nbformat": 4,
 "nbformat_minor": 2
}
