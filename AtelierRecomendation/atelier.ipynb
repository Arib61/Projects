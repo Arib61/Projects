{
 "cells": [
  {
   "cell_type": "markdown",
   "metadata": {},
   "source": [
    "1. Import Dependencies:"
   ]
  },
  {
   "cell_type": "code",
   "execution_count": 179,
   "metadata": {},
   "outputs": [],
   "source": [
    "import numpy as np\n",
    "import pandas as pd\n",
    "import difflib \n",
    "from sklearn.feature_extraction.text import TfidfVectorizer  # Correction ici\n",
    "from sklearn.metrics.pairwise import cosine_similarity"
   ]
  },
  {
   "cell_type": "markdown",
   "metadata": {},
   "source": [
    "2. Data collection & preprocessing:"
   ]
  },
  {
   "cell_type": "markdown",
   "metadata": {},
   "source": [
    "A- Dowlanding the data:"
   ]
  },
  {
   "cell_type": "code",
   "execution_count": 180,
   "metadata": {},
   "outputs": [
    {
     "name": "stderr",
     "output_type": "stream",
     "text": [
      "<>:1: SyntaxWarning: invalid escape sequence '\\M'\n",
      "<>:1: SyntaxWarning: invalid escape sequence '\\M'\n",
      "C:\\Users\\HP\\AppData\\Local\\Temp\\ipykernel_58408\\3765991129.py:1: SyntaxWarning: invalid escape sequence '\\M'\n",
      "  data = pd.read_csv(\"C:\\Machine_learning Python\\projets\\AtelierRecomendation\\data.csv\")\n"
     ]
    }
   ],
   "source": [
    "data = pd.read_csv(\"C:\\Machine_learning Python\\projets\\AtelierRecomendation\\data.csv\")"
   ]
  },
  {
   "cell_type": "markdown",
   "metadata": {},
   "source": [
    "B- Head of the data :"
   ]
  },
  {
   "cell_type": "code",
   "execution_count": 181,
   "metadata": {},
   "outputs": [
    {
     "name": "stdout",
     "output_type": "stream",
     "text": [
      "Index(['Age', 'Main Domain', 'Main Domain Percentage', 'Favorite Subject',\n",
      "       'Area of Interest', 'Atelier_Recomender'],\n",
      "      dtype='object')\n"
     ]
    }
   ],
   "source": [
    "# Renaming the column\n",
    "data.rename(columns={'Atelier Recomender': 'Atelier_Recomender'}, inplace=True)\n",
    "\n",
    "# Verify the change\n",
    "print(data.columns)\n"
   ]
  },
  {
   "cell_type": "code",
   "execution_count": 182,
   "metadata": {},
   "outputs": [
    {
     "data": {
      "text/html": [
       "<div>\n",
       "<style scoped>\n",
       "    .dataframe tbody tr th:only-of-type {\n",
       "        vertical-align: middle;\n",
       "    }\n",
       "\n",
       "    .dataframe tbody tr th {\n",
       "        vertical-align: top;\n",
       "    }\n",
       "\n",
       "    .dataframe thead th {\n",
       "        text-align: right;\n",
       "    }\n",
       "</style>\n",
       "<table border=\"1\" class=\"dataframe\">\n",
       "  <thead>\n",
       "    <tr style=\"text-align: right;\">\n",
       "      <th></th>\n",
       "      <th>Age</th>\n",
       "      <th>Main Domain</th>\n",
       "      <th>Main Domain Percentage</th>\n",
       "      <th>Favorite Subject</th>\n",
       "      <th>Area of Interest</th>\n",
       "      <th>Atelier_Recomender</th>\n",
       "    </tr>\n",
       "  </thead>\n",
       "  <tbody>\n",
       "    <tr>\n",
       "      <th>0</th>\n",
       "      <td>12</td>\n",
       "      <td>Biology</td>\n",
       "      <td>87.0</td>\n",
       "      <td>Biology</td>\n",
       "      <td>Bio Sciences</td>\n",
       "      <td>Bio Sciences</td>\n",
       "    </tr>\n",
       "    <tr>\n",
       "      <th>1</th>\n",
       "      <td>9</td>\n",
       "      <td>O Level</td>\n",
       "      <td>80.0</td>\n",
       "      <td>Finance / Accounting / Statistics</td>\n",
       "      <td>Business Administration</td>\n",
       "      <td>Business Administration</td>\n",
       "    </tr>\n",
       "    <tr>\n",
       "      <th>2</th>\n",
       "      <td>16</td>\n",
       "      <td>Biology</td>\n",
       "      <td>87.0</td>\n",
       "      <td>Physics</td>\n",
       "      <td>Bio Sciences</td>\n",
       "      <td>Bio Sciences</td>\n",
       "    </tr>\n",
       "    <tr>\n",
       "      <th>3</th>\n",
       "      <td>13</td>\n",
       "      <td>Computer</td>\n",
       "      <td>75.0</td>\n",
       "      <td>Computer Science</td>\n",
       "      <td>Software Engineering</td>\n",
       "      <td>Computer Science</td>\n",
       "    </tr>\n",
       "    <tr>\n",
       "      <th>4</th>\n",
       "      <td>10</td>\n",
       "      <td>Computer</td>\n",
       "      <td>83.0</td>\n",
       "      <td>Computer Science</td>\n",
       "      <td>Software Engineering</td>\n",
       "      <td>Software Engineering</td>\n",
       "    </tr>\n",
       "  </tbody>\n",
       "</table>\n",
       "</div>"
      ],
      "text/plain": [
       "   Age Main Domain  Main Domain Percentage                   Favorite Subject  \\\n",
       "0   12     Biology                    87.0                            Biology   \n",
       "1    9     O Level                    80.0  Finance / Accounting / Statistics   \n",
       "2   16     Biology                    87.0                            Physics   \n",
       "3   13    Computer                    75.0                   Computer Science   \n",
       "4   10    Computer                    83.0                   Computer Science   \n",
       "\n",
       "          Area of Interest       Atelier_Recomender  \n",
       "0             Bio Sciences             Bio Sciences  \n",
       "1  Business Administration  Business Administration  \n",
       "2             Bio Sciences             Bio Sciences  \n",
       "3     Software Engineering         Computer Science  \n",
       "4     Software Engineering     Software Engineering  "
      ]
     },
     "execution_count": 182,
     "metadata": {},
     "output_type": "execute_result"
    }
   ],
   "source": [
    "data.head()"
   ]
  },
  {
   "cell_type": "code",
   "execution_count": 183,
   "metadata": {},
   "outputs": [],
   "source": [
    "data = data.drop(columns=[\"Main Domain Percentage\"], axis=1)"
   ]
  },
  {
   "cell_type": "markdown",
   "metadata": {},
   "source": [
    "C- Number of tow and columns:"
   ]
  },
  {
   "cell_type": "code",
   "execution_count": 184,
   "metadata": {},
   "outputs": [
    {
     "data": {
      "text/plain": [
       "(1017, 5)"
      ]
     },
     "execution_count": 184,
     "metadata": {},
     "output_type": "execute_result"
    }
   ],
   "source": [
    "data.shape"
   ]
  },
  {
   "cell_type": "markdown",
   "metadata": {},
   "source": [
    "D- Type of the columns data :"
   ]
  },
  {
   "cell_type": "code",
   "execution_count": 185,
   "metadata": {},
   "outputs": [
    {
     "data": {
      "text/plain": [
       "Age                    int64\n",
       "Main Domain           object\n",
       "Favorite Subject      object\n",
       "Area of Interest      object\n",
       "Atelier_Recomender    object\n",
       "dtype: object"
      ]
     },
     "execution_count": 185,
     "metadata": {},
     "output_type": "execute_result"
    }
   ],
   "source": [
    "data.dtypes"
   ]
  },
  {
   "cell_type": "markdown",
   "metadata": {},
   "source": [
    "E- Information about the data:"
   ]
  },
  {
   "cell_type": "code",
   "execution_count": 186,
   "metadata": {},
   "outputs": [
    {
     "name": "stdout",
     "output_type": "stream",
     "text": [
      "<class 'pandas.core.frame.DataFrame'>\n",
      "RangeIndex: 1017 entries, 0 to 1016\n",
      "Data columns (total 5 columns):\n",
      " #   Column              Non-Null Count  Dtype \n",
      "---  ------              --------------  ----- \n",
      " 0   Age                 1017 non-null   int64 \n",
      " 1   Main Domain         1017 non-null   object\n",
      " 2   Favorite Subject    1017 non-null   object\n",
      " 3   Area of Interest    1017 non-null   object\n",
      " 4   Atelier_Recomender  1017 non-null   object\n",
      "dtypes: int64(1), object(4)\n",
      "memory usage: 39.9+ KB\n"
     ]
    }
   ],
   "source": [
    "data.info()"
   ]
  },
  {
   "cell_type": "code",
   "execution_count": 187,
   "metadata": {},
   "outputs": [
    {
     "data": {
      "text/html": [
       "<div>\n",
       "<style scoped>\n",
       "    .dataframe tbody tr th:only-of-type {\n",
       "        vertical-align: middle;\n",
       "    }\n",
       "\n",
       "    .dataframe tbody tr th {\n",
       "        vertical-align: top;\n",
       "    }\n",
       "\n",
       "    .dataframe thead th {\n",
       "        text-align: right;\n",
       "    }\n",
       "</style>\n",
       "<table border=\"1\" class=\"dataframe\">\n",
       "  <thead>\n",
       "    <tr style=\"text-align: right;\">\n",
       "      <th></th>\n",
       "      <th>Age</th>\n",
       "      <th>Main Domain</th>\n",
       "      <th>Favorite Subject</th>\n",
       "      <th>Area of Interest</th>\n",
       "      <th>Atelier_Recomender</th>\n",
       "    </tr>\n",
       "  </thead>\n",
       "  <tbody>\n",
       "    <tr>\n",
       "      <th>0</th>\n",
       "      <td>12</td>\n",
       "      <td>Biology</td>\n",
       "      <td>Biology</td>\n",
       "      <td>Bio Sciences</td>\n",
       "      <td>Bio Sciences</td>\n",
       "    </tr>\n",
       "    <tr>\n",
       "      <th>1</th>\n",
       "      <td>9</td>\n",
       "      <td>O Level</td>\n",
       "      <td>Finance / Accounting / Statistics</td>\n",
       "      <td>Business Administration</td>\n",
       "      <td>Business Administration</td>\n",
       "    </tr>\n",
       "    <tr>\n",
       "      <th>2</th>\n",
       "      <td>16</td>\n",
       "      <td>Biology</td>\n",
       "      <td>Physics</td>\n",
       "      <td>Bio Sciences</td>\n",
       "      <td>Bio Sciences</td>\n",
       "    </tr>\n",
       "    <tr>\n",
       "      <th>3</th>\n",
       "      <td>13</td>\n",
       "      <td>Computer</td>\n",
       "      <td>Computer Science</td>\n",
       "      <td>Software Engineering</td>\n",
       "      <td>Computer Science</td>\n",
       "    </tr>\n",
       "    <tr>\n",
       "      <th>4</th>\n",
       "      <td>10</td>\n",
       "      <td>Computer</td>\n",
       "      <td>Computer Science</td>\n",
       "      <td>Software Engineering</td>\n",
       "      <td>Software Engineering</td>\n",
       "    </tr>\n",
       "  </tbody>\n",
       "</table>\n",
       "</div>"
      ],
      "text/plain": [
       "   Age Main Domain                   Favorite Subject  \\\n",
       "0   12     Biology                            Biology   \n",
       "1    9     O Level  Finance / Accounting / Statistics   \n",
       "2   16     Biology                            Physics   \n",
       "3   13    Computer                   Computer Science   \n",
       "4   10    Computer                   Computer Science   \n",
       "\n",
       "          Area of Interest       Atelier_Recomender  \n",
       "0             Bio Sciences             Bio Sciences  \n",
       "1  Business Administration  Business Administration  \n",
       "2             Bio Sciences             Bio Sciences  \n",
       "3     Software Engineering         Computer Science  \n",
       "4     Software Engineering     Software Engineering  "
      ]
     },
     "execution_count": 187,
     "metadata": {},
     "output_type": "execute_result"
    }
   ],
   "source": [
    "data.head()"
   ]
  },
  {
   "cell_type": "code",
   "execution_count": 188,
   "metadata": {},
   "outputs": [
    {
     "data": {
      "text/plain": [
       "Main Domain\n",
       "Computer    532\n",
       "Biology     326\n",
       "O Level     104\n",
       "Arts         55\n",
       "Name: count, dtype: int64"
      ]
     },
     "execution_count": 188,
     "metadata": {},
     "output_type": "execute_result"
    }
   ],
   "source": [
    "data[\"Main Domain\"].value_counts()"
   ]
  },
  {
   "cell_type": "code",
   "execution_count": 189,
   "metadata": {},
   "outputs": [],
   "source": [
    "data = data.drop(data[data['Main Domain'] == 'O Level'].index)"
   ]
  },
  {
   "cell_type": "code",
   "execution_count": 190,
   "metadata": {},
   "outputs": [
    {
     "data": {
      "text/html": [
       "<div>\n",
       "<style scoped>\n",
       "    .dataframe tbody tr th:only-of-type {\n",
       "        vertical-align: middle;\n",
       "    }\n",
       "\n",
       "    .dataframe tbody tr th {\n",
       "        vertical-align: top;\n",
       "    }\n",
       "\n",
       "    .dataframe thead th {\n",
       "        text-align: right;\n",
       "    }\n",
       "</style>\n",
       "<table border=\"1\" class=\"dataframe\">\n",
       "  <thead>\n",
       "    <tr style=\"text-align: right;\">\n",
       "      <th></th>\n",
       "      <th>Age</th>\n",
       "      <th>Main Domain</th>\n",
       "      <th>Favorite Subject</th>\n",
       "      <th>Area of Interest</th>\n",
       "      <th>Atelier_Recomender</th>\n",
       "    </tr>\n",
       "  </thead>\n",
       "  <tbody>\n",
       "    <tr>\n",
       "      <th>0</th>\n",
       "      <td>12</td>\n",
       "      <td>Biology</td>\n",
       "      <td>Biology</td>\n",
       "      <td>Bio Sciences</td>\n",
       "      <td>Bio Sciences</td>\n",
       "    </tr>\n",
       "    <tr>\n",
       "      <th>2</th>\n",
       "      <td>16</td>\n",
       "      <td>Biology</td>\n",
       "      <td>Physics</td>\n",
       "      <td>Bio Sciences</td>\n",
       "      <td>Bio Sciences</td>\n",
       "    </tr>\n",
       "    <tr>\n",
       "      <th>3</th>\n",
       "      <td>13</td>\n",
       "      <td>Computer</td>\n",
       "      <td>Computer Science</td>\n",
       "      <td>Software Engineering</td>\n",
       "      <td>Computer Science</td>\n",
       "    </tr>\n",
       "    <tr>\n",
       "      <th>4</th>\n",
       "      <td>10</td>\n",
       "      <td>Computer</td>\n",
       "      <td>Computer Science</td>\n",
       "      <td>Software Engineering</td>\n",
       "      <td>Software Engineering</td>\n",
       "    </tr>\n",
       "    <tr>\n",
       "      <th>6</th>\n",
       "      <td>15</td>\n",
       "      <td>Computer</td>\n",
       "      <td>Finance / Accounting / Statistics</td>\n",
       "      <td>Account and Finance</td>\n",
       "      <td>Business Administration</td>\n",
       "    </tr>\n",
       "  </tbody>\n",
       "</table>\n",
       "</div>"
      ],
      "text/plain": [
       "   Age Main Domain                   Favorite Subject      Area of Interest  \\\n",
       "0   12     Biology                            Biology          Bio Sciences   \n",
       "2   16     Biology                            Physics          Bio Sciences   \n",
       "3   13    Computer                   Computer Science  Software Engineering   \n",
       "4   10    Computer                   Computer Science  Software Engineering   \n",
       "6   15    Computer  Finance / Accounting / Statistics   Account and Finance   \n",
       "\n",
       "        Atelier_Recomender  \n",
       "0             Bio Sciences  \n",
       "2             Bio Sciences  \n",
       "3         Computer Science  \n",
       "4     Software Engineering  \n",
       "6  Business Administration  "
      ]
     },
     "execution_count": 190,
     "metadata": {},
     "output_type": "execute_result"
    }
   ],
   "source": [
    "data.head()"
   ]
  },
  {
   "cell_type": "markdown",
   "metadata": {},
   "source": [
    "F- Selection the releveant features:"
   ]
  },
  {
   "cell_type": "code",
   "execution_count": 191,
   "metadata": {},
   "outputs": [
    {
     "name": "stdout",
     "output_type": "stream",
     "text": [
      "['Main Domain', 'Favorite Subject', 'Area of Interest']\n"
     ]
    }
   ],
   "source": [
    "selected_features = [\"Main Domain\",\"Favorite Subject\", \"Area of Interest\"]\n",
    "print(selected_features)"
   ]
  },
  {
   "cell_type": "markdown",
   "metadata": {},
   "source": [
    "2. General statistical :"
   ]
  },
  {
   "cell_type": "markdown",
   "metadata": {},
   "source": [
    "A- Replacing the null values (just for 5 columns ):"
   ]
  },
  {
   "cell_type": "code",
   "execution_count": 192,
   "metadata": {},
   "outputs": [],
   "source": [
    "for feature in selected_features:\n",
    "    data[feature] = data[feature].fillna(' ')"
   ]
  },
  {
   "cell_type": "markdown",
   "metadata": {},
   "source": [
    "B- Combining all the selectef_features:"
   ]
  },
  {
   "cell_type": "code",
   "execution_count": 193,
   "metadata": {},
   "outputs": [],
   "source": [
    "combined_feature = data[\"Main Domain\"] + ' '+data[\"Favorite Subject\"] + ' '+data[\"Area of Interest\"]+' '"
   ]
  },
  {
   "cell_type": "code",
   "execution_count": 194,
   "metadata": {},
   "outputs": [
    {
     "name": "stdout",
     "output_type": "stream",
     "text": [
      "0                           Biology Biology Bio Sciences \n",
      "2                           Biology Physics Bio Sciences \n",
      "3         Computer Computer Science Software Engineering \n",
      "4         Computer Computer Science Software Engineering \n",
      "6       Computer Finance / Accounting / Statistics Acc...\n",
      "                              ...                        \n",
      "1011    Biology Finance / Accounting / Statistics Busi...\n",
      "1012                Biology English Software Engineering \n",
      "1014                Biology English Software Engineering \n",
      "1015                Biology English Software Engineering \n",
      "1016                Biology English Software Engineering \n",
      "Length: 913, dtype: object\n"
     ]
    }
   ],
   "source": [
    "print(combined_feature)"
   ]
  },
  {
   "cell_type": "markdown",
   "metadata": {},
   "source": [
    "C- Converting the text data to feature vector:"
   ]
  },
  {
   "cell_type": "code",
   "execution_count": 195,
   "metadata": {},
   "outputs": [],
   "source": [
    "vectorizer = TfidfVectorizer()"
   ]
  },
  {
   "cell_type": "code",
   "execution_count": 196,
   "metadata": {},
   "outputs": [],
   "source": [
    "feature_vector = vectorizer.fit_transform(combined_feature)"
   ]
  },
  {
   "cell_type": "code",
   "execution_count": 197,
   "metadata": {},
   "outputs": [
    {
     "name": "stdout",
     "output_type": "stream",
     "text": [
      "  (0, 20)\t0.4962559352788647\n",
      "  (0, 5)\t0.4962559352788647\n",
      "  (0, 6)\t0.7123623329465129\n",
      "  (1, 17)\t0.6681263718600605\n",
      "  (1, 20)\t0.4691581130955203\n",
      "  (1, 5)\t0.4691581130955203\n",
      "  (1, 6)\t0.33673206122734173\n",
      "  (2, 12)\t0.4654312249485887\n",
      "  (2, 21)\t0.6038114142937557\n",
      "  (2, 19)\t0.4090824205352697\n",
      "  (2, 10)\t0.5014350646100004\n",
      "  (3, 12)\t0.4654312249485887\n",
      "  (3, 21)\t0.6038114142937557\n",
      "  (3, 19)\t0.4090824205352697\n",
      "  (3, 10)\t0.5014350646100004\n",
      "  (4, 3)\t0.3595031987921331\n",
      "  (4, 0)\t0.3595031987921331\n",
      "  (4, 22)\t0.3476308450786321\n",
      "  (4, 1)\t0.3476308450786321\n",
      "  (4, 14)\t0.6744774073603266\n",
      "  (4, 10)\t0.21189789564026415\n",
      "  (5, 15)\t0.5708150679409961\n",
      "  (5, 22)\t0.45112476855930383\n",
      "  (5, 1)\t0.45112476855930383\n",
      "  (5, 14)\t0.4376387604861152\n",
      "  :\t:\n",
      "  (907, 12)\t0.47299769219627835\n",
      "  (907, 21)\t0.6136275139560411\n",
      "  (907, 6)\t0.3463996656744084\n",
      "  (908, 2)\t0.5641776157810681\n",
      "  (908, 7)\t0.5641776157810681\n",
      "  (908, 22)\t0.3164988504702065\n",
      "  (908, 1)\t0.3164988504702065\n",
      "  (908, 14)\t0.3070373747320704\n",
      "  (908, 6)\t0.2622827510967759\n",
      "  (909, 13)\t0.528906162673287\n",
      "  (909, 12)\t0.47299769219627835\n",
      "  (909, 21)\t0.6136275139560411\n",
      "  (909, 6)\t0.3463996656744084\n",
      "  (910, 13)\t0.528906162673287\n",
      "  (910, 12)\t0.47299769219627835\n",
      "  (910, 21)\t0.6136275139560411\n",
      "  (910, 6)\t0.3463996656744084\n",
      "  (911, 13)\t0.528906162673287\n",
      "  (911, 12)\t0.47299769219627835\n",
      "  (911, 21)\t0.6136275139560411\n",
      "  (911, 6)\t0.3463996656744084\n",
      "  (912, 13)\t0.528906162673287\n",
      "  (912, 12)\t0.47299769219627835\n",
      "  (912, 21)\t0.6136275139560411\n",
      "  (912, 6)\t0.3463996656744084\n"
     ]
    }
   ],
   "source": [
    "print(feature_vector)"
   ]
  },
  {
   "cell_type": "markdown",
   "metadata": {},
   "source": [
    "3. Cosing Similarity:"
   ]
  },
  {
   "cell_type": "markdown",
   "metadata": {},
   "source": [
    "A- Similarity scores:"
   ]
  },
  {
   "cell_type": "code",
   "execution_count": 198,
   "metadata": {},
   "outputs": [],
   "source": [
    "similarity_list = cosine_similarity(feature_vector)"
   ]
  },
  {
   "cell_type": "code",
   "execution_count": 199,
   "metadata": {},
   "outputs": [
    {
     "name": "stdout",
     "output_type": "stream",
     "text": [
      "[[1.         0.70552023 0.         ... 0.24676207 0.24676207 0.24676207]\n",
      " [0.70552023 1.         0.         ... 0.11664387 0.11664387 0.11664387]\n",
      " [0.         0.         1.         ... 0.59066319 0.59066319 0.59066319]\n",
      " ...\n",
      " [0.24676207 0.11664387 0.59066319 ... 1.         1.         1.        ]\n",
      " [0.24676207 0.11664387 0.59066319 ... 1.         1.         1.        ]\n",
      " [0.24676207 0.11664387 0.59066319 ... 1.         1.         1.        ]]\n"
     ]
    }
   ],
   "source": [
    "print(similarity_list)"
   ]
  },
  {
   "cell_type": "code",
   "execution_count": 200,
   "metadata": {},
   "outputs": [
    {
     "name": "stdout",
     "output_type": "stream",
     "text": [
      "(913, 913)\n"
     ]
    }
   ],
   "source": [
    "print(similarity_list.shape)"
   ]
  },
  {
   "cell_type": "markdown",
   "metadata": {},
   "source": [
    "B- Getting the movie name:"
   ]
  },
  {
   "cell_type": "code",
   "execution_count": 201,
   "metadata": {},
   "outputs": [],
   "source": [
    "atelier_name = input(\"Enter your favourite atelier name: \")"
   ]
  },
  {
   "cell_type": "markdown",
   "metadata": {},
   "source": [
    "C- Creating a list of all the movies names given the dataset:"
   ]
  },
  {
   "cell_type": "code",
   "execution_count": 202,
   "metadata": {},
   "outputs": [],
   "source": [
    "Atlier_list = data[\"Atelier_Recomender\"].to_list()"
   ]
  },
  {
   "cell_type": "markdown",
   "metadata": {},
   "source": [
    "D- Finding the close match for the movie name giving by the user:"
   ]
  },
  {
   "cell_type": "code",
   "execution_count": 203,
   "metadata": {},
   "outputs": [
    {
     "name": "stdout",
     "output_type": "stream",
     "text": [
      "[]\n"
     ]
    }
   ],
   "source": [
    "finding = difflib.get_close_matches(atelier_name, Atlier_list)\n",
    "print(finding)"
   ]
  },
  {
   "cell_type": "code",
   "execution_count": 204,
   "metadata": {},
   "outputs": [
    {
     "ename": "IndexError",
     "evalue": "list index out of range",
     "output_type": "error",
     "traceback": [
      "\u001b[1;31m---------------------------------------------------------------------------\u001b[0m",
      "\u001b[1;31mIndexError\u001b[0m                                Traceback (most recent call last)",
      "Cell \u001b[1;32mIn[204], line 1\u001b[0m\n\u001b[1;32m----> 1\u001b[0m close_match \u001b[38;5;241m=\u001b[39m \u001b[43mfinding\u001b[49m\u001b[43m[\u001b[49m\u001b[38;5;241;43m0\u001b[39;49m\u001b[43m]\u001b[49m\n\u001b[0;32m      2\u001b[0m \u001b[38;5;28mprint\u001b[39m(close_match) \u001b[38;5;66;03m#Most similar movie\u001b[39;00m\n",
      "\u001b[1;31mIndexError\u001b[0m: list index out of range"
     ]
    }
   ],
   "source": [
    "close_match = finding[0]\n",
    "print(close_match) #Most similar movie"
   ]
  },
  {
   "cell_type": "markdown",
   "metadata": {},
   "source": [
    "E- Finding the index of the movie with title:"
   ]
  },
  {
   "cell_type": "code",
   "execution_count": null,
   "metadata": {},
   "outputs": [
    {
     "name": "stdout",
     "output_type": "stream",
     "text": [
      "0\n"
     ]
    }
   ],
   "source": [
    "\n",
    "index = data[data['Atelier_Recomender'] == close_match].index.values[0]\n",
    "print(index)"
   ]
  },
  {
   "cell_type": "markdown",
   "metadata": {},
   "source": [
    "F- Find the similar movie:"
   ]
  },
  {
   "cell_type": "code",
   "execution_count": null,
   "metadata": {},
   "outputs": [],
   "source": [
    "similarity_score = list(enumerate(similarity_list[index]))"
   ]
  },
  {
   "cell_type": "markdown",
   "metadata": {},
   "source": [
    "E- Sorting the movie based on hteir similarity score:"
   ]
  },
  {
   "cell_type": "code",
   "execution_count": null,
   "metadata": {},
   "outputs": [],
   "source": [
    "sorted_list = sorted(similarity_score , key= lambda x:x[1] , reverse=True)"
   ]
  },
  {
   "cell_type": "markdown",
   "metadata": {},
   "source": [
    "F- The most similar movie (suggestion):"
   ]
  },
  {
   "cell_type": "code",
   "execution_count": null,
   "metadata": {},
   "outputs": [
    {
     "name": "stdout",
     "output_type": "stream",
     "text": [
      "The top 10 similar movies to ' science ' are: \n",
      "\n",
      "TOP 1 : Bio Sciences\n",
      "TOP 2 : Bio Sciences\n",
      "TOP 3 : Bio Sciences\n",
      "TOP 4 : Bio Sciences\n",
      "TOP 5 : Bio Sciences\n",
      "TOP 6 : Psychology\n",
      "TOP 7 : Bio Sciences\n",
      "TOP 8 : Bio Sciences\n",
      "TOP 9 : Bio Sciences\n",
      "TOP 10 : Bio Sciences\n"
     ]
    }
   ],
   "source": [
    "i = 1\n",
    "print(\"The top 10 similar movies to '\", atelier_name, \"' are: \\n\")\n",
    "for index_score in sorted_list[1:11]:  # Assuming sorted_list contains tuples of (index, similarity score)\n",
    "    movie_index = index_score[0]  # Extract the movie index from the tuple\n",
    "    title = data.iloc[movie_index]['Atelier_Recomender']  # Use iloc to access the DataFrame row by integer location\n",
    "    print(\"TOP\", i, \":\", title)\n",
    "    i += 1"
   ]
  }
 ],
 "metadata": {
  "kernelspec": {
   "display_name": "Python 3",
   "language": "python",
   "name": "python3"
  },
  "language_info": {
   "codemirror_mode": {
    "name": "ipython",
    "version": 3
   },
   "file_extension": ".py",
   "mimetype": "text/x-python",
   "name": "python",
   "nbconvert_exporter": "python",
   "pygments_lexer": "ipython3",
   "version": "3.12.1"
  }
 },
 "nbformat": 4,
 "nbformat_minor": 2
}
