{
 "cells": [
  {
   "cell_type": "code",
   "execution_count": 4,
   "metadata": {},
   "outputs": [],
   "source": [
    "import numpy as np\n",
    "import matplotlib.pyplot as plt\n",
    "import seaborn as sns\n",
    "import cv2\n",
    "#from google.colab.patches import cv2_imshow\n",
    "from PIL import Image\n",
    "import tensorflow as tf\n",
    "tf.random.set_seed(3)\n",
    "from tensorflow import keras\n",
    "from keras.datasets import mnist\n",
    "from tensorflow.math import confusion_matrix"
   ]
  },
  {
   "cell_type": "code",
   "execution_count": 1,
   "metadata": {},
   "outputs": [
    {
     "name": "stdout",
     "output_type": "stream",
     "text": [
      "WARNING:tensorflow:From c:\\Users\\HP\\AppData\\Local\\Programs\\Python\\Python39\\lib\\site-packages\\keras\\src\\losses.py:2976: The name tf.losses.sparse_softmax_cross_entropy is deprecated. Please use tf.compat.v1.losses.sparse_softmax_cross_entropy instead.\n",
      "\n",
      "WARNING:tensorflow:From c:\\Users\\HP\\AppData\\Local\\Programs\\Python\\Python39\\lib\\site-packages\\keras\\src\\backend.py:1398: The name tf.executing_eagerly_outside_functions is deprecated. Please use tf.compat.v1.executing_eagerly_outside_functions instead.\n",
      "\n"
     ]
    }
   ],
   "source": [
    "from tensorflow.keras.models import load_model\n",
    "\n",
    "# Replace 'path_to_my_model' with the actual path to your saved model\n",
    "model = load_model('path_to_my_model.h5')  # Use 'path_to_my_model' for SavedModel format\n"
   ]
  },
  {
   "cell_type": "code",
   "execution_count": 12,
   "metadata": {},
   "outputs": [
    {
     "name": "stdout",
     "output_type": "stream",
     "text": [
      "1/1 [==============================] - 0s 39ms/step\n",
      "The predicted number is: 6\n"
     ]
    }
   ],
   "source": [
    "input_image = Image.open(\"C:\\Deep_learning Python\\projects\\MNIST Digit Classification\\salmane.png\")\n",
    "# Convertir l'image en niveaux de gris\n",
    "image_gray = input_image.convert('L')\n",
    "    # Redimensionner l'image à 28x28 pixels\n",
    "image_resize = image_gray.resize((28, 28))\n",
    "    # Convertir l'image PIL en un array numpy et normaliser les pixels\n",
    "image_np = np.array(image_resize) / 255.0\n",
    "image_reshaped = np.reshape(image_np, [1, 28, 28])\n",
    "    # Prédire le chiffre\n",
    "predict = model.predict(image_reshaped)\n",
    "predictNum = np.argmax(predict)\n",
    "    # Afficher l'image originale\n",
    "print('The predicted number is:', predictNum)\n"
   ]
  }
 ],
 "metadata": {
  "kernelspec": {
   "display_name": "Python 3",
   "language": "python",
   "name": "python3"
  },
  "language_info": {
   "codemirror_mode": {
    "name": "ipython",
    "version": 3
   },
   "file_extension": ".py",
   "mimetype": "text/x-python",
   "name": "python",
   "nbconvert_exporter": "python",
   "pygments_lexer": "ipython3",
   "version": "3.9.0"
  }
 },
 "nbformat": 4,
 "nbformat_minor": 2
}
